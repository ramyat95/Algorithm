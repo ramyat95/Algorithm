{
 "cells": [
  {
   "cell_type": "markdown",
   "id": "e4b586b8",
   "metadata": {},
   "source": [
    "### Searching algorithm\n",
    "- Checks or retrives an element from a sorted algorithm \n",
    "- Two types\n",
    "    - Sequential search --> every item in the list is checked until the search is found.\n",
    "    - Interval search --> \n",
    "        - Interval algorithms are more efficient than sequential search algorithms \n",
    "        - Breaks an array into smaller parts to be searched.\n",
    "        - However, for an interval search to be the most effective, the data needs to be sorted before searching."
   ]
  },
  {
   "cell_type": "markdown",
   "id": "f599cd75",
   "metadata": {},
   "source": [
    "## Linear Search"
   ]
  },
  {
   "cell_type": "code",
   "execution_count": 1,
   "id": "8194c534",
   "metadata": {},
   "outputs": [
    {
     "data": {
      "text/plain": [
       "4"
      ]
     },
     "execution_count": 1,
     "metadata": {},
     "output_type": "execute_result"
    }
   ],
   "source": [
    "def linear_search(a1, target):\n",
    "    for i in range(len(array)):\n",
    "        if (array[i]==target):\n",
    "            position = i\n",
    "    return position\n",
    "            \n",
    "target = 3\n",
    "array = [1, 0, 4, 2, 3, 5]\n",
    "linear_search(array,target)"
   ]
  },
  {
   "cell_type": "markdown",
   "id": "a728de4d",
   "metadata": {},
   "source": [
    "## Binary Search"
   ]
  },
  {
   "cell_type": "code",
   "execution_count": null,
   "id": "37e36b0d",
   "metadata": {},
   "outputs": [],
   "source": [
    "def binary_search(sorted_array, target):\n",
    "    left = 0\n",
    "    right = len(sorted_array) - 1\n",
    "    while left <= right:\n",
    "        midpoint = (left + (right-left))//2\n",
    "        current = array[midpoint]\n",
    "        if (current == target):\n",
    "            return midpoint;\n",
    "        else:\n",
    "            if (target < current):\n",
    "                right = midpoint - 1\n",
    "            else:\n",
    "                left = midpoint + 1\n",
    "    return None\n",
    "        \n",
    "\n",
    "target = 3\n",
    "sorted_array = [0, 1, 2, 3, 4, 5]\n",
    "result = binary_search(sorted_array, target)\n",
    "\n",
    "if result is not None:\n",
    "    print('Value {} found at position {} using binary search'.format(target, result+1))\n",
    "else:\n",
    "    print('Not found')\n"
   ]
  },
  {
   "cell_type": "code",
   "execution_count": null,
   "id": "804c552e",
   "metadata": {},
   "outputs": [],
   "source": []
  }
 ],
 "metadata": {
  "kernelspec": {
   "display_name": "Python 3",
   "language": "python",
   "name": "python3"
  },
  "language_info": {
   "codemirror_mode": {
    "name": "ipython",
    "version": 3
   },
   "file_extension": ".py",
   "mimetype": "text/x-python",
   "name": "python",
   "nbconvert_exporter": "python",
   "pygments_lexer": "ipython3",
   "version": "3.8.8"
  }
 },
 "nbformat": 4,
 "nbformat_minor": 5
}
